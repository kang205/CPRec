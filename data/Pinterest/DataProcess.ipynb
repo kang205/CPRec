{
 "cells": [
  {
   "cell_type": "code",
   "execution_count": 1,
   "metadata": {
    "collapsed": true
   },
   "outputs": [],
   "source": [
    "import gzip\n",
    "import random\n",
    "import numpy as np\n",
    "from datetime import datetime\n",
    "from collections import defaultdict\n",
    "import StringIO\n",
    "def parse(path):\n",
    "  g = gzip.open(path, 'r')\n",
    "  for l in g:\n",
    "    yield l"
   ]
  },
  {
   "cell_type": "code",
   "execution_count": 2,
   "metadata": {
    "collapsed": false
   },
   "outputs": [
    {
     "name": "stdout",
     "output_type": "stream",
     "text": [
      "19332255 37087686 8314067 1307527 2362006\n"
     ]
    }
   ],
   "source": [
    "countP = defaultdict(int)\n",
    "countC = defaultdict(int)\n",
    "countI = defaultdict(int)\n",
    "\n",
    "F=set()\n",
    "cc1=0\n",
    "for l in open('likes.csv'):\n",
    "    ua,i,ub = l.rstrip().split('|')\n",
    "    F.add((ua,i,ub))\n",
    "    cc1+=1\n",
    "cc2=0\n",
    "for l in open('repins.csv'):    \n",
    "    ua,i,ub = l.rstrip().split('|')    \n",
    "    F.add((ua,i,ub))    \n",
    "    cc2+=1\n",
    "    \n",
    "for (ua,i,ub) in F:\n",
    "    countC[ua] += 1    \n",
    "    countP[ub] += 1\n",
    "    countI[i] += 1\n",
    "\n",
    "print cc1,cc2, len(countC), len(countP),len(countI)"
   ]
  },
  {
   "cell_type": "code",
   "execution_count": 4,
   "metadata": {
    "collapsed": false
   },
   "outputs": [
    {
     "data": {
      "text/plain": [
       "889514"
      ]
     },
     "execution_count": 4,
     "metadata": {},
     "output_type": "execute_result"
    }
   ],
   "source": [
    "len(set(countP.keys()).intersection(set(countC.keys())))"
   ]
  },
  {
   "cell_type": "code",
   "execution_count": 13,
   "metadata": {
    "collapsed": false
   },
   "outputs": [],
   "source": [
    "usermap = dict()\n",
    "usernum = 0\n",
    "itemmap = dict()\n",
    "itemnum = 0\n",
    "User = defaultdict(dict)\n",
    "for (ua,i,ub) in F:\n",
    "    # filtering\n",
    "    if countC[ua]<10 or countP[ua]<10 or countC[ub]<10 or countP[ub]<10 or countI[i]<10: continue\n",
    "    if ua in usermap: usera = usermap[ua]\n",
    "    else:\n",
    "        usera = usernum\n",
    "        usernum += 1\n",
    "        usermap[ua] = usera\n",
    "        User[usera]['consume'] = []\n",
    "        User[usera]['produce'] = []\n",
    "    if i in itemmap: itemid = itemmap[i]\n",
    "    else:\n",
    "        itemid = itemnum\n",
    "        itemnum += 1\n",
    "        itemmap[i] = itemid           \n",
    "    User[usera]['consume'].append(itemid)        \n",
    "for (ua,i,ub) in F:\n",
    "    if not i in itemmap: continue\n",
    "    if ub in usermap: userb = usermap[ub]\n",
    "    else:\n",
    "        userb = usernum\n",
    "        usernum += 1\n",
    "        usermap[ub] = userb\n",
    "        User[userb]['consume'] = []\n",
    "        User[userb]['produce'] = []                \n",
    "    if i in itemmap: itemid = itemmap[i]\n",
    "    else:\n",
    "        itemid = itemnum\n",
    "        itemnum += 1\n",
    "        itemmap[i] = itemid   \n",
    "    User[userb]['produce'].append(itemid)"
   ]
  },
  {
   "cell_type": "code",
   "execution_count": 14,
   "metadata": {
    "collapsed": false
   },
   "outputs": [
    {
     "name": "stdout",
     "output_type": "stream",
     "text": [
      "134747 201792\n",
      "690506 108833 126197 100283\n"
     ]
    }
   ],
   "source": [
    "print usernum,itemnum\n",
    "t=0\n",
    "p=0\n",
    "c=0\n",
    "pros=0\n",
    "for userid in range(usernum):\n",
    "    t+=len(User[userid]['consume'])\n",
    "    if len(User[userid]['consume'])>0: c+=1\n",
    "    if len(User[userid]['produce'])>0: p+=1\n",
    "    if len(User[userid]['consume'])>0 and len(User[userid]['produce'])>0: pros+=1\n",
    "print t,p,c,pros\n"
   ]
  },
  {
   "cell_type": "code",
   "execution_count": 7,
   "metadata": {
    "collapsed": true
   },
   "outputs": [],
   "source": [
    "dataset=[User,usermap,itemmap,usernum,itemnum]\n",
    "np.save('meta_core_pinterest.npy',dataset)"
   ]
  },
  {
   "cell_type": "code",
   "execution_count": null,
   "metadata": {
    "collapsed": true
   },
   "outputs": [],
   "source": []
  }
 ],
 "metadata": {
  "kernelspec": {
   "display_name": "Python 2",
   "language": "python",
   "name": "python2"
  },
  "language_info": {
   "codemirror_mode": {
    "name": "ipython",
    "version": 2
   },
   "file_extension": ".py",
   "mimetype": "text/x-python",
   "name": "python",
   "nbconvert_exporter": "python",
   "pygments_lexer": "ipython2",
   "version": "2.7.12"
  }
 },
 "nbformat": 4,
 "nbformat_minor": 2
}
