{
 "cells": [
  {
   "cell_type": "code",
   "execution_count": 1,
   "metadata": {
    "collapsed": true
   },
   "outputs": [],
   "source": [
    "import gzip\n",
    "import random\n",
    "import numpy as np\n",
    "import ujson\n",
    "from datetime import datetime\n",
    "from collections import defaultdict\n",
    "import StringIO\n",
    "def parse(path):\n",
    "  g = gzip.open(path, 'r')\n",
    "  for l in g:\n",
    "    yield l"
   ]
  },
  {
   "cell_type": "code",
   "execution_count": 2,
   "metadata": {
    "collapsed": false
   },
   "outputs": [
    {
     "name": "stdout",
     "output_type": "stream",
     "text": [
      "10000000\n",
      "20000000\n",
      "30000000\n",
      "40000000\n",
      "48290438\n"
     ]
    }
   ],
   "source": [
    "# process comments\n",
    "countP = defaultdict(int)\n",
    "countC = defaultdict(int)\n",
    "countI = defaultdict(int)\n",
    "rec=set()\n",
    "cc=0\n",
    "for l in open('RC_2017-03'):\n",
    "    l = ujson.loads(l)\n",
    "    if (l['author'],l['link_id']) in rec: continue\n",
    "    rec.add((l['author'],l['link_id']))\n",
    "    countC[l['author']]+=1\n",
    "    countI[l['link_id']]+=1\n",
    "    if len(l['id'])!=7: print '!'\n",
    "    cc+=1\n",
    "    if cc%10000000==0: print cc\n",
    "print cc"
   ]
  },
  {
   "cell_type": "code",
   "execution_count": 3,
   "metadata": {
    "collapsed": false
   },
   "outputs": [
    {
     "name": "stdout",
     "output_type": "stream",
     "text": [
      "9616340\n"
     ]
    }
   ],
   "source": [
    "# process submissions\n",
    "validI1=set(countI.keys())\n",
    "validI2=set()\n",
    "UB=dict()\n",
    "a=0\n",
    "b=0\n",
    "cc=0\n",
    "for l in open('RS_2017-03'):\n",
    "    cc+=1\n",
    "    l = ujson.loads(l)\n",
    "    i = 't3_'+l['id']\n",
    "    ub = l['author']    \n",
    "    if i in countI:\n",
    "        countP[l['author']]+=1\n",
    "        validI2.add('t3_'+l['id'])\n",
    "        UB[i] = ub\n",
    "print cc"
   ]
  },
  {
   "cell_type": "code",
   "execution_count": 4,
   "metadata": {
    "collapsed": false
   },
   "outputs": [
    {
     "data": {
      "text/plain": [
       "1331580"
      ]
     },
     "execution_count": 4,
     "metadata": {},
     "output_type": "execute_result"
    }
   ],
   "source": [
    "len(set(countP.keys()).intersection(set(countC.keys())))"
   ]
  },
  {
   "cell_type": "code",
   "execution_count": 5,
   "metadata": {
    "collapsed": true
   },
   "outputs": [],
   "source": [
    "validI=validI1.intersection(validI2)"
   ]
  },
  {
   "cell_type": "code",
   "execution_count": 6,
   "metadata": {
    "collapsed": true
   },
   "outputs": [],
   "source": [
    "usermap = dict()\n",
    "usernum = 0\n",
    "itemmap = dict()\n",
    "itemnum = 0\n",
    "User = defaultdict(dict)\n",
    "for (ua,i) in rec:\n",
    "    if not i in validI: continue\n",
    "    ub = UB[i]\n",
    "    # filtering\n",
    "    if countC[ua]<10 or countP[ua]<10 or countC[ub]<10 or countP[ub]<10 or countI[i]<10: continue\n",
    "    if ua in usermap: usera = usermap[ua]\n",
    "    else:\n",
    "        usera = usernum\n",
    "        usernum += 1\n",
    "        usermap[ua] = usera\n",
    "        User[usera]['consume'] = []\n",
    "        User[usera]['produce'] = []\n",
    "    if i in itemmap: itemid = itemmap[i]\n",
    "    else:\n",
    "        itemid = itemnum\n",
    "        itemnum += 1\n",
    "        itemmap[i] = itemid           \n",
    "    User[usera]['consume'].append(itemid)        \n",
    "for (ua,i) in rec:\n",
    "    if not i in validI: continue\n",
    "    ub = UB[i]\n",
    "    if not i in itemmap: continue\n",
    "    if ub in usermap: userb = usermap[ub]\n",
    "    else:\n",
    "        userb = usernum\n",
    "        usernum += 1\n",
    "        usermap[ub] = userb\n",
    "        User[userb]['consume'] = []\n",
    "        User[userb]['produce'] = []                \n",
    "    if i in itemmap: itemid = itemmap[i]\n",
    "    else:\n",
    "        itemid = itemnum\n",
    "        itemnum += 1\n",
    "        itemmap[i] = itemid   \n",
    "    User[userb]['produce'].append(itemid)"
   ]
  },
  {
   "cell_type": "code",
   "execution_count": 8,
   "metadata": {
    "collapsed": false
   },
   "outputs": [
    {
     "name": "stdout",
     "output_type": "stream",
     "text": [
      "52654 336743\n",
      "1786032 45939 52445 45730\n"
     ]
    }
   ],
   "source": [
    "print usernum,itemnum\n",
    "t=0\n",
    "p=0\n",
    "c=0\n",
    "pros=0\n",
    "for userid in range(usernum):\n",
    "    t+=len(User[userid]['consume'])\n",
    "    if len(User[userid]['consume'])>0: c+=1\n",
    "    if len(User[userid]['produce'])>0: p+=1\n",
    "    if len(User[userid]['consume'])>0 and len(User[userid]['produce'])>0: pros+=1\n",
    "print t,p,c,pros\n"
   ]
  },
  {
   "cell_type": "code",
   "execution_count": 9,
   "metadata": {
    "collapsed": false
   },
   "outputs": [],
   "source": [
    "dataset=[User,usermap,itemmap,usernum,itemnum]\n",
    "np.save('meta_core_reddit.npy',dataset)"
   ]
  }
 ],
 "metadata": {
  "kernelspec": {
   "display_name": "Python 2",
   "language": "python",
   "name": "python2"
  },
  "language_info": {
   "codemirror_mode": {
    "name": "ipython",
    "version": 2
   },
   "file_extension": ".py",
   "mimetype": "text/x-python",
   "name": "python",
   "nbconvert_exporter": "python",
   "pygments_lexer": "ipython2",
   "version": "2.7.12"
  }
 },
 "nbformat": 4,
 "nbformat_minor": 2
}
