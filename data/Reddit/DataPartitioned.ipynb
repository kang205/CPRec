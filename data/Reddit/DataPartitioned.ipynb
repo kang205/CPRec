{
 "cells": [
  {
   "cell_type": "code",
   "execution_count": 1,
   "metadata": {
    "collapsed": false
   },
   "outputs": [
    {
     "name": "stdout",
     "output_type": "stream",
     "text": [
      "(52654, 336743)\n",
      "1786032\n"
     ]
    }
   ],
   "source": [
    "import gzip\n",
    "import math\n",
    "import json\n",
    "import random\n",
    "import numpy as np\n",
    "\n",
    "dataset=np.load('meta_core_reddit.npy')\n",
    "\n",
    "[User,usermap,itemmap,usernum,itemnum]=dataset\n",
    "\n",
    "print(usernum,itemnum)\n",
    "t=0\n",
    "for user in User: t+=len(User[user]['consume'])\n",
    "print(t)"
   ]
  },
  {
   "cell_type": "code",
   "execution_count": 2,
   "metadata": {
    "collapsed": false
   },
   "outputs": [
    {
     "data": {
      "text/plain": [
       "(52445, 45939, 45730)"
      ]
     },
     "execution_count": 2,
     "metadata": {},
     "output_type": "execute_result"
    }
   ],
   "source": [
    "p=0\n",
    "c=0\n",
    "pros=0\n",
    "for user in User:\n",
    "    if User[user]['consume']!=[]: c+=1\n",
    "    if User[user]['produce']!=[]: p+=1\n",
    "    if User[user]['consume']!=[] and User[user]['produce']!=[]: pros+=1\n",
    "c,p,pros"
   ]
  },
  {
   "cell_type": "code",
   "execution_count": 3,
   "metadata": {
    "collapsed": false
   },
   "outputs": [],
   "source": [
    "\n",
    "#devided to train/validation/test \n",
    "from collections import defaultdict\n",
    "user_train=defaultdict(dict)\n",
    "user_validation=defaultdict(dict)\n",
    "user_test=defaultdict(dict)\n",
    "\n",
    "cc=0\n",
    "for user in User:\n",
    "    nfeedback=len(User[user]['consume'])\n",
    "    if nfeedback<5:\n",
    "        cc+=1\n",
    "        user_train[user]=User[user]\n",
    "        user_validation[user]['consume']=[]\n",
    "        user_test[user]['consume']=[]\n",
    "    else:\n",
    "        user_train[user]['consume']=User[user]['consume']\n",
    "        user_train[user]['produce']=User[user]['produce']\n",
    "        \n",
    "        t = np.random.randint(len(user_train[user]['consume']))\n",
    "        user_validation[user]['consume']=[user_train[user]['consume'].pop(t)]\n",
    "        t = np.random.randint(len(user_train[user]['consume']))\n",
    "        user_test[user]['consume']=[user_train[user]['consume'].pop(t)]        \n",
    "        "
   ]
  },
  {
   "cell_type": "code",
   "execution_count": 4,
   "metadata": {
    "collapsed": false
   },
   "outputs": [],
   "source": [
    "dataset=[user_train,user_validation,user_test,usernum,itemnum]\n",
    "np.save('RedditCorePartitioned.npy',dataset)"
   ]
  },
  {
   "cell_type": "code",
   "execution_count": 4,
   "metadata": {
    "collapsed": true
   },
   "outputs": [],
   "source": [
    ""
   ]
  },
  {
   "cell_type": "code",
   "execution_count": 5,
   "metadata": {
    "collapsed": true
   },
   "outputs": [],
   "source": [
    ""
   ]
  },
  {
   "cell_type": "code",
   "execution_count": 1,
   "metadata": {
    "collapsed": true
   },
   "outputs": [],
   "source": [
    ""
   ]
  },
  {
   "cell_type": "code",
   "execution_count": null,
   "metadata": {
    "collapsed": true
   },
   "outputs": [],
   "source": []
  }
 ],
 "metadata": {
  "kernelspec": {
   "display_name": "Python 2",
   "language": "python",
   "name": "python2"
  },
  "language_info": {
   "codemirror_mode": {
    "name": "ipython",
    "version": 2
   },
   "file_extension": ".py",
   "mimetype": "text/x-python",
   "name": "python",
   "nbconvert_exporter": "python",
   "pygments_lexer": "ipython2",
   "version": "2.7.12"
  }
 },
 "nbformat": 4,
 "nbformat_minor": 2
}
